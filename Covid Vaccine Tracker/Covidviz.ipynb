{
 "cells": [
  {
   "cell_type": "markdown",
   "id": "636983f6",
   "metadata": {},
   "source": [
    "**Installing Required Packages**"
   ]
  },
  {
   "cell_type": "code",
   "execution_count": null,
   "id": "43f9faa7",
   "metadata": {},
   "outputs": [],
   "source": [
    "pip install mysql-connector           #Only if required"
   ]
  },
  {
   "cell_type": "markdown",
   "id": "ecba5eef",
   "metadata": {},
   "source": [
    " **Importing the requried libraries**"
   ]
  },
  {
   "cell_type": "code",
   "execution_count": 2,
   "id": "d4a4cdc9",
   "metadata": {},
   "outputs": [],
   "source": [
    "import mysql.connector\n",
    "import pandas as pd\n",
    "import matplotlib.pyplot as plt\n",
    "import seaborn as sns"
   ]
  },
  {
   "cell_type": "markdown",
   "id": "c755c02a",
   "metadata": {},
   "source": [
    "**Connection to the Database**\n"
   ]
  },
  {
   "cell_type": "code",
   "execution_count": 3,
   "id": "ea980e79",
   "metadata": {},
   "outputs": [],
   "source": [
    "conn = mysql.connector.connect(host='localhost', user='root', password='12345678',\n",
    "                              database='covid',\n",
    "                              auth_plugin = 'mysql_native_password'\n",
    "                              )\n"
   ]
  },
  {
   "cell_type": "markdown",
   "id": "d3163c26",
   "metadata": {},
   "source": [
    "**Retrieving the Number of vaccines and Department Id from the database**"
   ]
  },
  {
   "cell_type": "code",
   "execution_count": 4,
   "id": "44a6a851",
   "metadata": {},
   "outputs": [],
   "source": [
    "query = pd.read_sql(\"Select no_of_vaccines, slot_id from vaccine_slot\", conn)\n",
    "query = pd.DataFrame(query)\n",
    "query = query.sort_values(by=['no_of_vaccines', 'slot_id'], ascending = False).head(20)\n"
   ]
  },
  {
   "cell_type": "markdown",
   "id": "844234b2",
   "metadata": {},
   "source": [
    "**Plotting the top 20 sites which has the highest slots available**"
   ]
  },
  {
   "cell_type": "code",
   "execution_count": 5,
   "id": "4b31699c",
   "metadata": {},
   "outputs": [
    {
     "data": {
      "image/png": "[encoded data removed]",
      "text/plain": [
       "<Figure size 432x288 with 1 Axes>"
      ]
     },
     "metadata": {},
     "output_type": "display_data"
    }
   ],
   "source": [
    "query.plot(kind=\"bar\", x=\"slot_id\", y=\"no_of_vaccines\", xlabel = \"Department ID\", ylabel = \"Number of Vaccines\")\n",
    "plt.show()"
   ]
  },
  {
   "cell_type": "code",
   "execution_count": null,
   "id": "e1258aae",
   "metadata": {},
   "outputs": [],
   "source": [
    "**Number of patients every worker has administered**"
   ]
  },
  {
   "cell_type": "code",
   "execution_count": 7,
   "id": "09b00de6",
   "metadata": {},
   "outputs": [
    {
     "data": {
      "text/html": [
       "<div>\n",
       "<style scoped>\n",
       "    .dataframe tbody tr th:only-of-type {\n",
       "        vertical-align: middle;\n",
       "    }\n",
       "\n",
       "    .dataframe tbody tr th {\n",
       "        vertical-align: top;\n",
       "    }\n",
       "\n",
       "    .dataframe thead th {\n",
       "        text-align: right;\n",
       "    }\n",
       "</style>\n",
       "<table border=\"1\" class=\"dataframe\">\n",
       "  <thead>\n",
       "    <tr style=\"text-align: right;\">\n",
       "      <th></th>\n",
       "      <th>No_of_patients</th>\n",
       "      <th>Worker_ID</th>\n",
       "    </tr>\n",
       "  </thead>\n",
       "  <tbody>\n",
       "    <tr>\n",
       "      <th>137</th>\n",
       "      <td>3</td>\n",
       "      <td>40139</td>\n",
       "    </tr>\n",
       "    <tr>\n",
       "      <th>235</th>\n",
       "      <td>3</td>\n",
       "      <td>40237</td>\n",
       "    </tr>\n",
       "    <tr>\n",
       "      <th>140</th>\n",
       "      <td>4</td>\n",
       "      <td>40142</td>\n",
       "    </tr>\n",
       "    <tr>\n",
       "      <th>58</th>\n",
       "      <td>2</td>\n",
       "      <td>40059</td>\n",
       "    </tr>\n",
       "    <tr>\n",
       "      <th>236</th>\n",
       "      <td>5</td>\n",
       "      <td>40238</td>\n",
       "    </tr>\n",
       "    <tr>\n",
       "      <th>188</th>\n",
       "      <td>4</td>\n",
       "      <td>40190</td>\n",
       "    </tr>\n",
       "    <tr>\n",
       "      <th>70</th>\n",
       "      <td>8</td>\n",
       "      <td>40071</td>\n",
       "    </tr>\n",
       "    <tr>\n",
       "      <th>118</th>\n",
       "      <td>4</td>\n",
       "      <td>40120</td>\n",
       "    </tr>\n",
       "    <tr>\n",
       "      <th>61</th>\n",
       "      <td>3</td>\n",
       "      <td>40062</td>\n",
       "    </tr>\n",
       "    <tr>\n",
       "      <th>66</th>\n",
       "      <td>6</td>\n",
       "      <td>40067</td>\n",
       "    </tr>\n",
       "    <tr>\n",
       "      <th>43</th>\n",
       "      <td>3</td>\n",
       "      <td>40044</td>\n",
       "    </tr>\n",
       "    <tr>\n",
       "      <th>161</th>\n",
       "      <td>1</td>\n",
       "      <td>40163</td>\n",
       "    </tr>\n",
       "    <tr>\n",
       "      <th>124</th>\n",
       "      <td>9</td>\n",
       "      <td>40126</td>\n",
       "    </tr>\n",
       "    <tr>\n",
       "      <th>122</th>\n",
       "      <td>2</td>\n",
       "      <td>40124</td>\n",
       "    </tr>\n",
       "    <tr>\n",
       "      <th>246</th>\n",
       "      <td>3</td>\n",
       "      <td>40248</td>\n",
       "    </tr>\n",
       "    <tr>\n",
       "      <th>31</th>\n",
       "      <td>3</td>\n",
       "      <td>40032</td>\n",
       "    </tr>\n",
       "    <tr>\n",
       "      <th>178</th>\n",
       "      <td>5</td>\n",
       "      <td>40180</td>\n",
       "    </tr>\n",
       "    <tr>\n",
       "      <th>192</th>\n",
       "      <td>3</td>\n",
       "      <td>40194</td>\n",
       "    </tr>\n",
       "    <tr>\n",
       "      <th>13</th>\n",
       "      <td>3</td>\n",
       "      <td>40014</td>\n",
       "    </tr>\n",
       "    <tr>\n",
       "      <th>157</th>\n",
       "      <td>4</td>\n",
       "      <td>40159</td>\n",
       "    </tr>\n",
       "  </tbody>\n",
       "</table>\n",
       "</div>"
      ],
      "text/plain": [
       "     No_of_patients  Worker_ID\n",
       "137               3      40139\n",
       "235               3      40237\n",
       "140               4      40142\n",
       "58                2      40059\n",
       "236               5      40238\n",
       "188               4      40190\n",
       "70                8      40071\n",
       "118               4      40120\n",
       "61                3      40062\n",
       "66                6      40067\n",
       "43                3      40044\n",
       "161               1      40163\n",
       "124               9      40126\n",
       "122               2      40124\n",
       "246               3      40248\n",
       "31                3      40032\n",
       "178               5      40180\n",
       "192               3      40194\n",
       "13                3      40014\n",
       "157               4      40159"
      ]
     },
     "execution_count": 7,
     "metadata": {},
     "output_type": "execute_result"
    }
   ],
   "source": [
    "query2 = pd.read_sql(\"select count(worker.w_id) as No_of_patients, worker.w_id as Worker_ID from patient p join administered_by on p.p_id = administered_by.p_id join worker on worker.w_id = administered_by.w_id group by worker.w_id;\", conn)\n",
    "\n",
    "query2 = pd.DataFrame(query2)\n",
    "query2 = query2.sort_values(by=['No_of_patients', 'Worker_ID'], ascending = False).sample(20)\n",
    "query2"
   ]
  },
  {
   "cell_type": "markdown",
   "id": "adbc5469",
   "metadata": {},
   "source": [
    "**Plotting the Number of patients worker has administered**"
   ]
  },
  {
   "cell_type": "code",
   "execution_count": 11,
   "id": "68318b1d",
   "metadata": {},
   "outputs": [
    {
     "data": {
      "image/png": "[encoded data removed]",
      "text/plain": [
       "<Figure size 432x288 with 1 Axes>"
      ]
     },
     "metadata": {},
     "output_type": "display_data"
    }
   ],
   "source": [
    "# Creating a bar plot with seaborn\n",
    "\n",
    "sns.set()\n",
    "\n",
    "sns.barplot(\n",
    "    x='Worker_ID', \n",
    "    y='No_of_patients', \n",
    "    color='salmon', \n",
    "    data= query2\n",
    ")\n",
    "# Again, Matplotlib style formatting commands are used\n",
    "# to customise the output details.\n",
    "plt.xticks(rotation=60)\n",
    "plt.ylabel(\"Number of patients\")\n",
    "plt.xlabel(\"Worker ID\")\n",
    "plt.title(\"Number of Patients Administered\")\n",
    "plt.gca().yaxis.grid(linestyle=':')"
   ]
  },
  {
   "cell_type": "code",
   "execution_count": 18,
   "id": "0c38dd3f",
   "metadata": {},
   "outputs": [
    {
     "data": {
      "text/html": [
       "<div>\n",
       "<style scoped>\n",
       "    .dataframe tbody tr th:only-of-type {\n",
       "        vertical-align: middle;\n",
       "    }\n",
       "\n",
       "    .dataframe tbody tr th {\n",
       "        vertical-align: top;\n",
       "    }\n",
       "\n",
       "    .dataframe thead th {\n",
       "        text-align: right;\n",
       "    }\n",
       "</style>\n",
       "<table border=\"1\" class=\"dataframe\">\n",
       "  <thead>\n",
       "    <tr style=\"text-align: right;\">\n",
       "      <th></th>\n",
       "      <th>Number_of_Distributors</th>\n",
       "      <th>Manufacturer_Name</th>\n",
       "    </tr>\n",
       "  </thead>\n",
       "  <tbody>\n",
       "    <tr>\n",
       "      <th>0</th>\n",
       "      <td>5</td>\n",
       "      <td>AstraZeneca</td>\n",
       "    </tr>\n",
       "    <tr>\n",
       "      <th>1</th>\n",
       "      <td>2</td>\n",
       "      <td>Sputnik V</td>\n",
       "    </tr>\n",
       "    <tr>\n",
       "      <th>2</th>\n",
       "      <td>2</td>\n",
       "      <td>Moderna</td>\n",
       "    </tr>\n",
       "    <tr>\n",
       "      <th>3</th>\n",
       "      <td>5</td>\n",
       "      <td>Janssen</td>\n",
       "    </tr>\n",
       "    <tr>\n",
       "      <th>4</th>\n",
       "      <td>7</td>\n",
       "      <td>Covidsheild</td>\n",
       "    </tr>\n",
       "    <tr>\n",
       "      <th>5</th>\n",
       "      <td>9</td>\n",
       "      <td>Pfizer</td>\n",
       "    </tr>\n",
       "    <tr>\n",
       "      <th>6</th>\n",
       "      <td>6</td>\n",
       "      <td>Covaxin</td>\n",
       "    </tr>\n",
       "    <tr>\n",
       "      <th>7</th>\n",
       "      <td>8</td>\n",
       "      <td>CoronaVac</td>\n",
       "    </tr>\n",
       "    <tr>\n",
       "      <th>8</th>\n",
       "      <td>6</td>\n",
       "      <td>Convidecia</td>\n",
       "    </tr>\n",
       "  </tbody>\n",
       "</table>\n",
       "</div>"
      ],
      "text/plain": [
       "   Number_of_Distributors Manufacturer_Name\n",
       "0                       5       AstraZeneca\n",
       "1                       2         Sputnik V\n",
       "2                       2           Moderna\n",
       "3                       5           Janssen\n",
       "4                       7       Covidsheild\n",
       "5                       9            Pfizer\n",
       "6                       6           Covaxin\n",
       "7                       8         CoronaVac\n",
       "8                       6        Convidecia"
      ]
     },
     "execution_count": 18,
     "metadata": {},
     "output_type": "execute_result"
    }
   ],
   "source": [
    "query3 = pd.read_sql(\"Select  count(Manufacturer_Name) as Number_of_Distributors,Manufacturer_Name from manufacturers m join sells_to on m.m_id = sells_to.m_id join distributor d on d.d_id = sells_to.d_id group by Manufacturer_Name;\", conn)\n",
    "\n",
    "query3 = pd.DataFrame(query3)\n",
    "\n",
    "query3\n"
   ]
  },
  {
   "cell_type": "markdown",
   "id": "aa2ce8ab",
   "metadata": {},
   "source": [
    "**Vaccine distribution**"
   ]
  },
  {
   "cell_type": "code",
   "execution_count": 37,
   "id": "de5b7727",
   "metadata": {},
   "outputs": [
    {
     "data": {
      "image/png": "[encoded data removed]",
      "text/plain": [
       "<Figure size 432x288 with 1 Axes>"
      ]
     },
     "metadata": {},
     "output_type": "display_data"
    }
   ],
   "source": [
    "colors = sns.color_palette('pastel')[0:5]\n",
    "\n",
    "plt.pie(query3.loc[:,'Number_of_Distributors'], labels = query3.loc[:,'Manufacturer_Name'] ,colors = colors, autopct='%.0f%%')\n",
    "plt.show()"
   ]
  },
  {
   "cell_type": "code",
   "execution_count": 38,
   "id": "8b80abe1",
   "metadata": {},
   "outputs": [],
   "source": []
  }
 ],
 "metadata": {
  "kernelspec": {
   "display_name": "Python 3 (ipykernel)",
   "language": "python",
   "name": "python3"
  },
  "language_info": {
   "codemirror_mode": {
    "name": "ipython",
    "version": 3
   },
   "file_extension": ".py",
   "mimetype": "text/x-python",
   "name": "python",
   "nbconvert_exporter": "python",
   "pygments_lexer": "ipython3",
   "version": "3.9.7"
  }
 },
 "nbformat": 4,
 "nbformat_minor": 5
}
